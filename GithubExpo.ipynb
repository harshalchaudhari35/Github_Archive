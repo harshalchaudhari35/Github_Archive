{
 "cells": [
  {
   "cell_type": "code",
   "execution_count": 1,
   "metadata": {},
   "outputs": [],
   "source": [
    "# https://www.kaggle.com/poonaml/analyzing-3-million-github-repos-using-bigquery/notebook"
   ]
  },
  {
   "cell_type": "code",
   "execution_count": 2,
   "metadata": {},
   "outputs": [
    {
     "name": "stdout",
     "output_type": "stream",
     "text": [
      "[sudo] password for harshal: \n"
     ]
    }
   ],
   "source": [
    "!pip install -e git+https://github.com/SohierDane/BigQuery_Helper#egg=bq_helper"
   ]
  },
  {
   "cell_type": "code",
   "execution_count": 1,
   "metadata": {},
   "outputs": [],
   "source": [
    "import bq_helper\n",
    "import pandas as pd"
   ]
  },
  {
   "cell_type": "code",
   "execution_count": 2,
   "metadata": {},
   "outputs": [],
   "source": [
    "#set GOOGLE_APPLICATION_CREDENTIALS=\"C:\\Users\\alakamale\\Github\\CA675-ede38ecf6679.json\"\n",
    "import os\n",
    "from google.cloud.bigquery.client import Client\n",
    "\n",
    "os.environ['GOOGLE_APPLICATION_CREDENTIALS']='CA675-ede38ecf6679.json'\n",
    "bq_client = Client()"
   ]
  },
  {
   "cell_type": "code",
   "execution_count": 3,
   "metadata": {},
   "outputs": [],
   "source": [
    "github_repos = bq_helper.BigQueryHelper(active_project= \"bigquery-public-data\", \n",
    "                                       dataset_name = \"github_repos\")"
   ]
  },
  {
   "cell_type": "markdown",
   "metadata": {},
   "source": [
    "### Listing Tables"
   ]
  },
  {
   "cell_type": "code",
   "execution_count": 4,
   "metadata": {},
   "outputs": [
    {
     "data": {
      "text/plain": [
       "['commits',\n",
       " 'contents',\n",
       " 'files',\n",
       " 'languages',\n",
       " 'licenses',\n",
       " 'sample_commits',\n",
       " 'sample_contents',\n",
       " 'sample_files',\n",
       " 'sample_repos']"
      ]
     },
     "execution_count": 4,
     "metadata": {},
     "output_type": "execute_result"
    }
   ],
   "source": [
    "# print a list of all the tables in the github_repos dataset\n",
    "github_repos.list_tables()"
   ]
  },
  {
   "cell_type": "code",
   "execution_count": 8,
   "metadata": {},
   "outputs": [
    {
     "data": {
      "text/html": [
       "<div>\n",
       "<style scoped>\n",
       "    .dataframe tbody tr th:only-of-type {\n",
       "        vertical-align: middle;\n",
       "    }\n",
       "\n",
       "    .dataframe tbody tr th {\n",
       "        vertical-align: top;\n",
       "    }\n",
       "\n",
       "    .dataframe thead th {\n",
       "        text-align: right;\n",
       "    }\n",
       "</style>\n",
       "<table border=\"1\" class=\"dataframe\">\n",
       "  <thead>\n",
       "    <tr style=\"text-align: right;\">\n",
       "      <th></th>\n",
       "      <th>name</th>\n",
       "      <th>type</th>\n",
       "      <th>mode</th>\n",
       "      <th>description</th>\n",
       "    </tr>\n",
       "  </thead>\n",
       "  <tbody>\n",
       "    <tr>\n",
       "      <th>0</th>\n",
       "      <td>commit</td>\n",
       "      <td>STRING</td>\n",
       "      <td>NULLABLE</td>\n",
       "      <td>None</td>\n",
       "    </tr>\n",
       "    <tr>\n",
       "      <th>1</th>\n",
       "      <td>tree</td>\n",
       "      <td>STRING</td>\n",
       "      <td>NULLABLE</td>\n",
       "      <td>None</td>\n",
       "    </tr>\n",
       "    <tr>\n",
       "      <th>2</th>\n",
       "      <td>parent</td>\n",
       "      <td>STRING</td>\n",
       "      <td>REPEATED</td>\n",
       "      <td>None</td>\n",
       "    </tr>\n",
       "    <tr>\n",
       "      <th>3</th>\n",
       "      <td>author</td>\n",
       "      <td>RECORD</td>\n",
       "      <td>NULLABLE</td>\n",
       "      <td>None</td>\n",
       "    </tr>\n",
       "    <tr>\n",
       "      <th>4</th>\n",
       "      <td>author.name</td>\n",
       "      <td>STRING</td>\n",
       "      <td>NULLABLE</td>\n",
       "      <td>None</td>\n",
       "    </tr>\n",
       "    <tr>\n",
       "      <th>5</th>\n",
       "      <td>author.email</td>\n",
       "      <td>STRING</td>\n",
       "      <td>NULLABLE</td>\n",
       "      <td>None</td>\n",
       "    </tr>\n",
       "    <tr>\n",
       "      <th>6</th>\n",
       "      <td>author.time_sec</td>\n",
       "      <td>INTEGER</td>\n",
       "      <td>NULLABLE</td>\n",
       "      <td>None</td>\n",
       "    </tr>\n",
       "    <tr>\n",
       "      <th>7</th>\n",
       "      <td>author.tz_offset</td>\n",
       "      <td>INTEGER</td>\n",
       "      <td>NULLABLE</td>\n",
       "      <td>None</td>\n",
       "    </tr>\n",
       "    <tr>\n",
       "      <th>8</th>\n",
       "      <td>author.date</td>\n",
       "      <td>RECORD</td>\n",
       "      <td>NULLABLE</td>\n",
       "      <td>None</td>\n",
       "    </tr>\n",
       "    <tr>\n",
       "      <th>9</th>\n",
       "      <td>author.date.seconds</td>\n",
       "      <td>INTEGER</td>\n",
       "      <td>NULLABLE</td>\n",
       "      <td>None</td>\n",
       "    </tr>\n",
       "    <tr>\n",
       "      <th>10</th>\n",
       "      <td>author.date.nanos</td>\n",
       "      <td>INTEGER</td>\n",
       "      <td>NULLABLE</td>\n",
       "      <td>None</td>\n",
       "    </tr>\n",
       "    <tr>\n",
       "      <th>11</th>\n",
       "      <td>committer</td>\n",
       "      <td>RECORD</td>\n",
       "      <td>NULLABLE</td>\n",
       "      <td>None</td>\n",
       "    </tr>\n",
       "    <tr>\n",
       "      <th>12</th>\n",
       "      <td>committer.name</td>\n",
       "      <td>STRING</td>\n",
       "      <td>NULLABLE</td>\n",
       "      <td>None</td>\n",
       "    </tr>\n",
       "    <tr>\n",
       "      <th>13</th>\n",
       "      <td>committer.email</td>\n",
       "      <td>STRING</td>\n",
       "      <td>NULLABLE</td>\n",
       "      <td>None</td>\n",
       "    </tr>\n",
       "    <tr>\n",
       "      <th>14</th>\n",
       "      <td>committer.time_sec</td>\n",
       "      <td>INTEGER</td>\n",
       "      <td>NULLABLE</td>\n",
       "      <td>None</td>\n",
       "    </tr>\n",
       "    <tr>\n",
       "      <th>15</th>\n",
       "      <td>committer.tz_offset</td>\n",
       "      <td>INTEGER</td>\n",
       "      <td>NULLABLE</td>\n",
       "      <td>None</td>\n",
       "    </tr>\n",
       "    <tr>\n",
       "      <th>16</th>\n",
       "      <td>committer.date</td>\n",
       "      <td>RECORD</td>\n",
       "      <td>NULLABLE</td>\n",
       "      <td>None</td>\n",
       "    </tr>\n",
       "    <tr>\n",
       "      <th>17</th>\n",
       "      <td>committer.date.seconds</td>\n",
       "      <td>INTEGER</td>\n",
       "      <td>NULLABLE</td>\n",
       "      <td>None</td>\n",
       "    </tr>\n",
       "    <tr>\n",
       "      <th>18</th>\n",
       "      <td>committer.date.nanos</td>\n",
       "      <td>INTEGER</td>\n",
       "      <td>NULLABLE</td>\n",
       "      <td>None</td>\n",
       "    </tr>\n",
       "    <tr>\n",
       "      <th>19</th>\n",
       "      <td>subject</td>\n",
       "      <td>STRING</td>\n",
       "      <td>NULLABLE</td>\n",
       "      <td>None</td>\n",
       "    </tr>\n",
       "    <tr>\n",
       "      <th>20</th>\n",
       "      <td>message</td>\n",
       "      <td>STRING</td>\n",
       "      <td>NULLABLE</td>\n",
       "      <td>None</td>\n",
       "    </tr>\n",
       "    <tr>\n",
       "      <th>21</th>\n",
       "      <td>trailer</td>\n",
       "      <td>RECORD</td>\n",
       "      <td>REPEATED</td>\n",
       "      <td>None</td>\n",
       "    </tr>\n",
       "    <tr>\n",
       "      <th>22</th>\n",
       "      <td>trailer.key</td>\n",
       "      <td>STRING</td>\n",
       "      <td>NULLABLE</td>\n",
       "      <td>None</td>\n",
       "    </tr>\n",
       "    <tr>\n",
       "      <th>23</th>\n",
       "      <td>trailer.value</td>\n",
       "      <td>STRING</td>\n",
       "      <td>NULLABLE</td>\n",
       "      <td>None</td>\n",
       "    </tr>\n",
       "    <tr>\n",
       "      <th>24</th>\n",
       "      <td>trailer.email</td>\n",
       "      <td>STRING</td>\n",
       "      <td>NULLABLE</td>\n",
       "      <td>None</td>\n",
       "    </tr>\n",
       "    <tr>\n",
       "      <th>25</th>\n",
       "      <td>difference</td>\n",
       "      <td>RECORD</td>\n",
       "      <td>REPEATED</td>\n",
       "      <td>None</td>\n",
       "    </tr>\n",
       "    <tr>\n",
       "      <th>26</th>\n",
       "      <td>difference.old_mode</td>\n",
       "      <td>INTEGER</td>\n",
       "      <td>NULLABLE</td>\n",
       "      <td>None</td>\n",
       "    </tr>\n",
       "    <tr>\n",
       "      <th>27</th>\n",
       "      <td>difference.new_mode</td>\n",
       "      <td>INTEGER</td>\n",
       "      <td>NULLABLE</td>\n",
       "      <td>None</td>\n",
       "    </tr>\n",
       "    <tr>\n",
       "      <th>28</th>\n",
       "      <td>difference.old_path</td>\n",
       "      <td>STRING</td>\n",
       "      <td>NULLABLE</td>\n",
       "      <td>None</td>\n",
       "    </tr>\n",
       "    <tr>\n",
       "      <th>29</th>\n",
       "      <td>difference.new_path</td>\n",
       "      <td>STRING</td>\n",
       "      <td>NULLABLE</td>\n",
       "      <td>None</td>\n",
       "    </tr>\n",
       "    <tr>\n",
       "      <th>30</th>\n",
       "      <td>difference.old_sha1</td>\n",
       "      <td>STRING</td>\n",
       "      <td>NULLABLE</td>\n",
       "      <td>None</td>\n",
       "    </tr>\n",
       "    <tr>\n",
       "      <th>31</th>\n",
       "      <td>difference.new_sha1</td>\n",
       "      <td>STRING</td>\n",
       "      <td>NULLABLE</td>\n",
       "      <td>None</td>\n",
       "    </tr>\n",
       "    <tr>\n",
       "      <th>32</th>\n",
       "      <td>difference.old_repo</td>\n",
       "      <td>STRING</td>\n",
       "      <td>NULLABLE</td>\n",
       "      <td>None</td>\n",
       "    </tr>\n",
       "    <tr>\n",
       "      <th>33</th>\n",
       "      <td>difference.new_repo</td>\n",
       "      <td>STRING</td>\n",
       "      <td>NULLABLE</td>\n",
       "      <td>None</td>\n",
       "    </tr>\n",
       "    <tr>\n",
       "      <th>34</th>\n",
       "      <td>difference_truncated</td>\n",
       "      <td>BOOLEAN</td>\n",
       "      <td>NULLABLE</td>\n",
       "      <td>None</td>\n",
       "    </tr>\n",
       "    <tr>\n",
       "      <th>35</th>\n",
       "      <td>repo_name</td>\n",
       "      <td>STRING</td>\n",
       "      <td>REPEATED</td>\n",
       "      <td>None</td>\n",
       "    </tr>\n",
       "    <tr>\n",
       "      <th>36</th>\n",
       "      <td>encoding</td>\n",
       "      <td>STRING</td>\n",
       "      <td>NULLABLE</td>\n",
       "      <td>None</td>\n",
       "    </tr>\n",
       "  </tbody>\n",
       "</table>\n",
       "</div>"
      ],
      "text/plain": [
       "                      name     type      mode description\n",
       "0                   commit   STRING  NULLABLE        None\n",
       "1                     tree   STRING  NULLABLE        None\n",
       "2                   parent   STRING  REPEATED        None\n",
       "3                   author   RECORD  NULLABLE        None\n",
       "4              author.name   STRING  NULLABLE        None\n",
       "5             author.email   STRING  NULLABLE        None\n",
       "6          author.time_sec  INTEGER  NULLABLE        None\n",
       "7         author.tz_offset  INTEGER  NULLABLE        None\n",
       "8              author.date   RECORD  NULLABLE        None\n",
       "9      author.date.seconds  INTEGER  NULLABLE        None\n",
       "10       author.date.nanos  INTEGER  NULLABLE        None\n",
       "11               committer   RECORD  NULLABLE        None\n",
       "12          committer.name   STRING  NULLABLE        None\n",
       "13         committer.email   STRING  NULLABLE        None\n",
       "14      committer.time_sec  INTEGER  NULLABLE        None\n",
       "15     committer.tz_offset  INTEGER  NULLABLE        None\n",
       "16          committer.date   RECORD  NULLABLE        None\n",
       "17  committer.date.seconds  INTEGER  NULLABLE        None\n",
       "18    committer.date.nanos  INTEGER  NULLABLE        None\n",
       "19                 subject   STRING  NULLABLE        None\n",
       "20                 message   STRING  NULLABLE        None\n",
       "21                 trailer   RECORD  REPEATED        None\n",
       "22             trailer.key   STRING  NULLABLE        None\n",
       "23           trailer.value   STRING  NULLABLE        None\n",
       "24           trailer.email   STRING  NULLABLE        None\n",
       "25              difference   RECORD  REPEATED        None\n",
       "26     difference.old_mode  INTEGER  NULLABLE        None\n",
       "27     difference.new_mode  INTEGER  NULLABLE        None\n",
       "28     difference.old_path   STRING  NULLABLE        None\n",
       "29     difference.new_path   STRING  NULLABLE        None\n",
       "30     difference.old_sha1   STRING  NULLABLE        None\n",
       "31     difference.new_sha1   STRING  NULLABLE        None\n",
       "32     difference.old_repo   STRING  NULLABLE        None\n",
       "33     difference.new_repo   STRING  NULLABLE        None\n",
       "34    difference_truncated  BOOLEAN  NULLABLE        None\n",
       "35               repo_name   STRING  REPEATED        None\n",
       "36                encoding   STRING  NULLABLE        None"
      ]
     },
     "execution_count": 8,
     "metadata": {},
     "output_type": "execute_result"
    }
   ],
   "source": [
    "# print information on all the columns in the \"commits\" table\n",
    "# in the github_repos dataset\n",
    "github_repos.table_schema(\"commits\")"
   ]
  },
  {
   "cell_type": "code",
   "execution_count": 8,
   "metadata": {},
   "outputs": [
    {
     "data": {
      "text/html": [
       "<div>\n",
       "<style scoped>\n",
       "    .dataframe tbody tr th:only-of-type {\n",
       "        vertical-align: middle;\n",
       "    }\n",
       "\n",
       "    .dataframe tbody tr th {\n",
       "        vertical-align: top;\n",
       "    }\n",
       "\n",
       "    .dataframe thead th {\n",
       "        text-align: right;\n",
       "    }\n",
       "</style>\n",
       "<table border=\"1\" class=\"dataframe\">\n",
       "  <thead>\n",
       "    <tr style=\"text-align: right;\">\n",
       "      <th></th>\n",
       "      <th>commit</th>\n",
       "      <th>tree</th>\n",
       "      <th>parent</th>\n",
       "      <th>author</th>\n",
       "      <th>committer</th>\n",
       "      <th>subject</th>\n",
       "      <th>message</th>\n",
       "      <th>trailer</th>\n",
       "      <th>difference</th>\n",
       "      <th>difference_truncated</th>\n",
       "      <th>repo_name</th>\n",
       "      <th>encoding</th>\n",
       "    </tr>\n",
       "  </thead>\n",
       "  <tbody>\n",
       "    <tr>\n",
       "      <th>0</th>\n",
       "      <td>ad02cc045016044349348a6ff994df10b819e7bb</td>\n",
       "      <td>397490f7d02fb37734276d77eb72952bc1e9e2de</td>\n",
       "      <td>[d42a354b58a9684296056184300a8415924c32a0]</td>\n",
       "      <td>{'name': 'Nicolas Albert', 'email': '1b2dd0bac...</td>\n",
       "      <td>{'name': 'Nicolas Albert', 'email': '1b2dd0bac...</td>\n",
       "      <td>Close #4115 - Upgrade to Java 1.7.0_55 and Tom...</td>\n",
       "      <td>Close #4115 - Upgrade to Java 1.7.0_55 and Tom...</td>\n",
       "      <td>[{'key': 'Former-commit-id', 'value': '0b64dbc...</td>\n",
       "      <td>[]</td>\n",
       "      <td>None</td>\n",
       "      <td>[convertigo/convertigo-webapp]</td>\n",
       "      <td>None</td>\n",
       "    </tr>\n",
       "    <tr>\n",
       "      <th>1</th>\n",
       "      <td>b41d75048f7f458a71a4540d8f6a407787034b9d</td>\n",
       "      <td>35d4f735790c7ef7f059e8a7879f3c93ddadc3a6</td>\n",
       "      <td>[bcbdc591bebaf842fb0d743d5bb032e054b9de04]</td>\n",
       "      <td>{'name': 'hp.com!davidm', 'email': 'hp.com!dav...</td>\n",
       "      <td>{'name': 'hp.com!davidm', 'email': 'hp.com!dav...</td>\n",
       "      <td>Fix double-negation in unw_get_save_loc().  Re...</td>\n",
       "      <td>Fix double-negation in unw_get_save_loc().  Re...</td>\n",
       "      <td>[{'key': 'BKrev', 'value': '3f8755d6q9mbCMOMPX...</td>\n",
       "      <td>[]</td>\n",
       "      <td>None</td>\n",
       "      <td>[SyndicateRogue/libunwind, krytarowski/libunwi...</td>\n",
       "      <td>None</td>\n",
       "    </tr>\n",
       "    <tr>\n",
       "      <th>2</th>\n",
       "      <td>246f2690ef3287ff98cbb87565c521060a19e2df</td>\n",
       "      <td>2fe532f9ae73a643d370b712b8dc05cc1ad52cbf</td>\n",
       "      <td>[f51995bfb2e6090520e01f516bbb68e3fb6025b1, 5d3...</td>\n",
       "      <td>{'name': 'Luke Dashjr', 'email': 'd0b35c280567...</td>\n",
       "      <td>{'name': 'Luke Dashjr', 'email': 'd0b35c280567...</td>\n",
       "      <td>Tree-Merge commit '5d3faba' into cg_merges_201...</td>\n",
       "      <td>Tree-Merge commit '5d3faba' into cg_merges_201...</td>\n",
       "      <td>[{'key': 'Conflicts', 'value': '', 'email': No...</td>\n",
       "      <td>[]</td>\n",
       "      <td>None</td>\n",
       "      <td>[leonschoorl/bfgminer-bench, aiwis30/my, Crypt...</td>\n",
       "      <td>None</td>\n",
       "    </tr>\n",
       "    <tr>\n",
       "      <th>3</th>\n",
       "      <td>c1781455dde3816a1df8fbe2675cd395f7ca2ea5</td>\n",
       "      <td>fd2ce85ca7247a04db9fdc2a56df0448c8aa591c</td>\n",
       "      <td>[03f3bec6b3cfa7bc3fe475439c1f2e31a480c6e3]</td>\n",
       "      <td>{'name': 'juhosg', 'email': '0b85b0feb94c9a44e...</td>\n",
       "      <td>{'name': 'juhosg', 'email': '0b85b0feb94c9a44e...</td>\n",
       "      <td>packages/uanytun: fix whitespaces</td>\n",
       "      <td>packages/uanytun: fix whitespaces\\n\\nSigned-of...</td>\n",
       "      <td>[{'key': 'Signed-off-by', 'value': 'Dirk Neuki...</td>\n",
       "      <td>[]</td>\n",
       "      <td>None</td>\n",
       "      <td>[cuiqingwei1981/openwrt, maxrio/openwrt]</td>\n",
       "      <td>None</td>\n",
       "    </tr>\n",
       "    <tr>\n",
       "      <th>4</th>\n",
       "      <td>62892b17afb22ec7f291091b346c0f3412c1281a</td>\n",
       "      <td>f170ece3e1fbb566c902f17ef6509ed1da23f47a</td>\n",
       "      <td>[c7e5324c4450e5b7be6f869baf0b24c3d808dcdc]</td>\n",
       "      <td>{'name': 'Matt Rajkowski', 'email': 'd1a81dd63...</td>\n",
       "      <td>{'name': 'Matt Rajkowski', 'email': 'd1a81dd63...</td>\n",
       "      <td>CHANGE: Facebook likes enabled even when faceb...</td>\n",
       "      <td>CHANGE: Facebook likes enabled even when faceb...</td>\n",
       "      <td>[{'key': 'FIX', 'value': 'updateCommentsCount ...</td>\n",
       "      <td>[]</td>\n",
       "      <td>None</td>\n",
       "      <td>[Concursive/concourseconnect-community]</td>\n",
       "      <td>None</td>\n",
       "    </tr>\n",
       "  </tbody>\n",
       "</table>\n",
       "</div>"
      ],
      "text/plain": [
       "                                     commit  \\\n",
       "0  ad02cc045016044349348a6ff994df10b819e7bb   \n",
       "1  b41d75048f7f458a71a4540d8f6a407787034b9d   \n",
       "2  246f2690ef3287ff98cbb87565c521060a19e2df   \n",
       "3  c1781455dde3816a1df8fbe2675cd395f7ca2ea5   \n",
       "4  62892b17afb22ec7f291091b346c0f3412c1281a   \n",
       "\n",
       "                                       tree  \\\n",
       "0  397490f7d02fb37734276d77eb72952bc1e9e2de   \n",
       "1  35d4f735790c7ef7f059e8a7879f3c93ddadc3a6   \n",
       "2  2fe532f9ae73a643d370b712b8dc05cc1ad52cbf   \n",
       "3  fd2ce85ca7247a04db9fdc2a56df0448c8aa591c   \n",
       "4  f170ece3e1fbb566c902f17ef6509ed1da23f47a   \n",
       "\n",
       "                                              parent  \\\n",
       "0         [d42a354b58a9684296056184300a8415924c32a0]   \n",
       "1         [bcbdc591bebaf842fb0d743d5bb032e054b9de04]   \n",
       "2  [f51995bfb2e6090520e01f516bbb68e3fb6025b1, 5d3...   \n",
       "3         [03f3bec6b3cfa7bc3fe475439c1f2e31a480c6e3]   \n",
       "4         [c7e5324c4450e5b7be6f869baf0b24c3d808dcdc]   \n",
       "\n",
       "                                              author  \\\n",
       "0  {'name': 'Nicolas Albert', 'email': '1b2dd0bac...   \n",
       "1  {'name': 'hp.com!davidm', 'email': 'hp.com!dav...   \n",
       "2  {'name': 'Luke Dashjr', 'email': 'd0b35c280567...   \n",
       "3  {'name': 'juhosg', 'email': '0b85b0feb94c9a44e...   \n",
       "4  {'name': 'Matt Rajkowski', 'email': 'd1a81dd63...   \n",
       "\n",
       "                                           committer  \\\n",
       "0  {'name': 'Nicolas Albert', 'email': '1b2dd0bac...   \n",
       "1  {'name': 'hp.com!davidm', 'email': 'hp.com!dav...   \n",
       "2  {'name': 'Luke Dashjr', 'email': 'd0b35c280567...   \n",
       "3  {'name': 'juhosg', 'email': '0b85b0feb94c9a44e...   \n",
       "4  {'name': 'Matt Rajkowski', 'email': 'd1a81dd63...   \n",
       "\n",
       "                                             subject  \\\n",
       "0  Close #4115 - Upgrade to Java 1.7.0_55 and Tom...   \n",
       "1  Fix double-negation in unw_get_save_loc().  Re...   \n",
       "2  Tree-Merge commit '5d3faba' into cg_merges_201...   \n",
       "3                  packages/uanytun: fix whitespaces   \n",
       "4  CHANGE: Facebook likes enabled even when faceb...   \n",
       "\n",
       "                                             message  \\\n",
       "0  Close #4115 - Upgrade to Java 1.7.0_55 and Tom...   \n",
       "1  Fix double-negation in unw_get_save_loc().  Re...   \n",
       "2  Tree-Merge commit '5d3faba' into cg_merges_201...   \n",
       "3  packages/uanytun: fix whitespaces\\n\\nSigned-of...   \n",
       "4  CHANGE: Facebook likes enabled even when faceb...   \n",
       "\n",
       "                                             trailer difference  \\\n",
       "0  [{'key': 'Former-commit-id', 'value': '0b64dbc...         []   \n",
       "1  [{'key': 'BKrev', 'value': '3f8755d6q9mbCMOMPX...         []   \n",
       "2  [{'key': 'Conflicts', 'value': '', 'email': No...         []   \n",
       "3  [{'key': 'Signed-off-by', 'value': 'Dirk Neuki...         []   \n",
       "4  [{'key': 'FIX', 'value': 'updateCommentsCount ...         []   \n",
       "\n",
       "  difference_truncated                                          repo_name  \\\n",
       "0                 None                     [convertigo/convertigo-webapp]   \n",
       "1                 None  [SyndicateRogue/libunwind, krytarowski/libunwi...   \n",
       "2                 None  [leonschoorl/bfgminer-bench, aiwis30/my, Crypt...   \n",
       "3                 None           [cuiqingwei1981/openwrt, maxrio/openwrt]   \n",
       "4                 None            [Concursive/concourseconnect-community]   \n",
       "\n",
       "  encoding  \n",
       "0     None  \n",
       "1     None  \n",
       "2     None  \n",
       "3     None  \n",
       "4     None  "
      ]
     },
     "execution_count": 8,
     "metadata": {},
     "output_type": "execute_result"
    }
   ],
   "source": [
    "# preview the first couple lines of the \"commits\" table\n",
    "github_repos.head(\"commits\")"
   ]
  },
  {
   "cell_type": "code",
   "execution_count": 10,
   "metadata": {},
   "outputs": [
    {
     "data": {
      "text/plain": [
       "19.73382367193699"
      ]
     },
     "execution_count": 10,
     "metadata": {},
     "output_type": "execute_result"
    }
   ],
   "source": [
    "query1= \"\"\"SELECT repo_name, \n",
    "            FROM `bigquery-public-data.github_repos.commits`\n",
    "            WHERE \n",
    "            LIMIT 5000\n",
    "        \"\"\"\n",
    "github_repos.estimate_query_size(query1)"
   ]
  },
  {
   "cell_type": "code",
   "execution_count": 12,
   "metadata": {},
   "outputs": [
    {
     "data": {
      "text/html": [
       "<div>\n",
       "<style scoped>\n",
       "    .dataframe tbody tr th:only-of-type {\n",
       "        vertical-align: middle;\n",
       "    }\n",
       "\n",
       "    .dataframe tbody tr th {\n",
       "        vertical-align: top;\n",
       "    }\n",
       "\n",
       "    .dataframe thead th {\n",
       "        text-align: right;\n",
       "    }\n",
       "</style>\n",
       "<table border=\"1\" class=\"dataframe\">\n",
       "  <thead>\n",
       "    <tr style=\"text-align: right;\">\n",
       "      <th></th>\n",
       "      <th>author</th>\n",
       "    </tr>\n",
       "  </thead>\n",
       "  <tbody>\n",
       "    <tr>\n",
       "      <th>0</th>\n",
       "      <td>{'name': 'Joshua Brindle', 'email': '5b58b2021...</td>\n",
       "    </tr>\n",
       "    <tr>\n",
       "      <th>1</th>\n",
       "      <td>{'name': 'elmar', 'email': '791f3a257265e3fe39...</td>\n",
       "    </tr>\n",
       "    <tr>\n",
       "      <th>2</th>\n",
       "      <td>{'name': 'grosbach', 'email': '01cbceb5bfe9a58...</td>\n",
       "    </tr>\n",
       "    <tr>\n",
       "      <th>3</th>\n",
       "      <td>{'name': 'Joshua Brindle', 'email': '5b58b2021...</td>\n",
       "    </tr>\n",
       "    <tr>\n",
       "      <th>4</th>\n",
       "      <td>{'name': 'stoklund', 'email': '9e01571d0adae2c...</td>\n",
       "    </tr>\n",
       "  </tbody>\n",
       "</table>\n",
       "</div>"
      ],
      "text/plain": [
       "                                              author\n",
       "0  {'name': 'Joshua Brindle', 'email': '5b58b2021...\n",
       "1  {'name': 'elmar', 'email': '791f3a257265e3fe39...\n",
       "2  {'name': 'grosbach', 'email': '01cbceb5bfe9a58...\n",
       "3  {'name': 'Joshua Brindle', 'email': '5b58b2021...\n",
       "4  {'name': 'stoklund', 'email': '9e01571d0adae2c..."
      ]
     },
     "execution_count": 12,
     "metadata": {},
     "output_type": "execute_result"
    }
   ],
   "source": [
    "github_repo_commits = github_repos.query_to_pandas_safe(query1, max_gb_scanned=20)\n",
    "github_repo_commits.head()"
   ]
  },
  {
   "cell_type": "code",
   "execution_count": 14,
   "metadata": {},
   "outputs": [
    {
     "data": {
      "text/plain": [
       "{'name': 'Joshua Brindle',\n",
       " 'email': '5b58b20213d5f8d163008d4735e8bcc25bddb250@tresys.com',\n",
       " 'time_sec': 1098710116,\n",
       " 'tz_offset': 0,\n",
       " 'date': {'seconds': 1098710116, 'nanos': None}}"
      ]
     },
     "execution_count": 14,
     "metadata": {},
     "output_type": "execute_result"
    }
   ],
   "source": [
    "github_repo_commits['author'][0]"
   ]
  },
  {
   "cell_type": "markdown",
   "metadata": {},
   "source": [
    "##### SELECT ... FROM ... WHERE\n",
    "\n",
    "Or first query is going to be simple select a single column from a specific table. To do this, you need to tell SELECT which column to select and then specify what table that column is from using FROM.\n",
    "\n",
    "When you're working with BigQuery datasets, you're almost always going to want to return only certain rows, usually based on the value of a different column. You can do this using the WHERE clause, which will only return the rows where the WHERE clause evaluates to true.\n",
    "What are sizes of Github Repositories??\n",
    "\n",
    "We will be using contents table."
   ]
  },
  {
   "cell_type": "code",
   "execution_count": 9,
   "metadata": {},
   "outputs": [
    {
     "data": {
      "text/html": [
       "<div>\n",
       "<style scoped>\n",
       "    .dataframe tbody tr th:only-of-type {\n",
       "        vertical-align: middle;\n",
       "    }\n",
       "\n",
       "    .dataframe tbody tr th {\n",
       "        vertical-align: top;\n",
       "    }\n",
       "\n",
       "    .dataframe thead th {\n",
       "        text-align: right;\n",
       "    }\n",
       "</style>\n",
       "<table border=\"1\" class=\"dataframe\">\n",
       "  <thead>\n",
       "    <tr style=\"text-align: right;\">\n",
       "      <th></th>\n",
       "      <th>id</th>\n",
       "      <th>size</th>\n",
       "      <th>content</th>\n",
       "      <th>binary</th>\n",
       "      <th>copies</th>\n",
       "    </tr>\n",
       "  </thead>\n",
       "  <tbody>\n",
       "    <tr>\n",
       "      <th>0</th>\n",
       "      <td>78fdf3c2712951cae81e16bfefc5cf534889c2e1</td>\n",
       "      <td>4588</td>\n",
       "      <td>{:all-words (\"Zur\" \"Verbesserung\" \"des\" \"Straf...</td>\n",
       "      <td>False</td>\n",
       "      <td>1</td>\n",
       "    </tr>\n",
       "    <tr>\n",
       "      <th>1</th>\n",
       "      <td>4e3412478ee8bfcc8f5f4e3501049c5cb20809c2</td>\n",
       "      <td>749</td>\n",
       "      <td>//\\n//  LXModuleViewControllerDelegate.swift\\n...</td>\n",
       "      <td>False</td>\n",
       "      <td>1</td>\n",
       "    </tr>\n",
       "    <tr>\n",
       "      <th>2</th>\n",
       "      <td>8e92ef4792b8d74cc16ba18a777a4b0ed0d94f07</td>\n",
       "      <td>254</td>\n",
       "      <td>#!/bin/bash\\n\\n# Google Chrome (beta)\\n\\nsudo ...</td>\n",
       "      <td>False</td>\n",
       "      <td>1</td>\n",
       "    </tr>\n",
       "    <tr>\n",
       "      <th>3</th>\n",
       "      <td>259a65b9aba37fbcc9a4a2eb5231923123d615be</td>\n",
       "      <td>39993</td>\n",
       "      <td>&lt;!DOCTYPE HTML PUBLIC \"-//W3C//DTD HTML 4.01 T...</td>\n",
       "      <td>False</td>\n",
       "      <td>1</td>\n",
       "    </tr>\n",
       "    <tr>\n",
       "      <th>4</th>\n",
       "      <td>202103c1d85c668d402f6208a1428fbfd8dd8974</td>\n",
       "      <td>623</td>\n",
       "      <td>﻿&lt;?xml version=\"1.0\" encoding=\"utf-8\"?&gt;\\n&lt;pack...</td>\n",
       "      <td>False</td>\n",
       "      <td>2</td>\n",
       "    </tr>\n",
       "  </tbody>\n",
       "</table>\n",
       "</div>"
      ],
      "text/plain": [
       "                                         id   size  \\\n",
       "0  78fdf3c2712951cae81e16bfefc5cf534889c2e1   4588   \n",
       "1  4e3412478ee8bfcc8f5f4e3501049c5cb20809c2    749   \n",
       "2  8e92ef4792b8d74cc16ba18a777a4b0ed0d94f07    254   \n",
       "3  259a65b9aba37fbcc9a4a2eb5231923123d615be  39993   \n",
       "4  202103c1d85c668d402f6208a1428fbfd8dd8974    623   \n",
       "\n",
       "                                             content  binary  copies  \n",
       "0  {:all-words (\"Zur\" \"Verbesserung\" \"des\" \"Straf...   False       1  \n",
       "1  //\\n//  LXModuleViewControllerDelegate.swift\\n...   False       1  \n",
       "2  #!/bin/bash\\n\\n# Google Chrome (beta)\\n\\nsudo ...   False       1  \n",
       "3  <!DOCTYPE HTML PUBLIC \"-//W3C//DTD HTML 4.01 T...   False       1  \n",
       "4  ﻿<?xml version=\"1.0\" encoding=\"utf-8\"?>\\n<pack...   False       2  "
      ]
     },
     "execution_count": 9,
     "metadata": {},
     "output_type": "execute_result"
    }
   ],
   "source": [
    "github_repos.head(\"contents\")"
   ]
  },
  {
   "cell_type": "markdown",
   "metadata": {},
   "source": [
    "#### Checking the size of our query before we run it\n",
    "\n",
    "Our Dataset is 3TBs so we can easily cross tha daily limit by running few queries. We should always estimate how much data we need to scan for executing this query by BigQueryHelper.estimate_query_size() method.\n"
   ]
  },
  {
   "cell_type": "code",
   "execution_count": 8,
   "metadata": {},
   "outputs": [
    {
     "data": {
      "text/plain": [
       "2.167315425351262"
      ]
     },
     "execution_count": 8,
     "metadata": {},
     "output_type": "execute_result"
    }
   ],
   "source": [
    "query1= \"\"\"SELECT size\n",
    "            FROM `bigquery-public-data.github_repos.contents`\n",
    "            WHERE binary = True\n",
    "            LIMIT 5000\n",
    "        \"\"\"\n",
    "github_repos.estimate_query_size(query1)"
   ]
  },
  {
   "cell_type": "markdown",
   "metadata": {},
   "source": [
    "#### Running a query\n",
    "\n",
    "There are 2 ways to do this:\n",
    "\n",
    "    BigQueryHelper.query_to_pandas(query): This method takes a query and returns a Pandas dataframe.\n",
    "    BigQueryHelper.query_to_pandas_safe(query, max_gb_scanned=1): This method takes a query and returns a Pandas dataframe only if the size of the query is less than the upperSizeLimit (1 gigabyte by default).\n",
    "\n",
    "Here's an example of a query that is larger than the specified upper limit."
   ]
  },
  {
   "cell_type": "code",
   "execution_count": 9,
   "metadata": {},
   "outputs": [
    {
     "data": {
      "text/html": [
       "<div>\n",
       "<style scoped>\n",
       "    .dataframe tbody tr th:only-of-type {\n",
       "        vertical-align: middle;\n",
       "    }\n",
       "\n",
       "    .dataframe tbody tr th {\n",
       "        vertical-align: top;\n",
       "    }\n",
       "\n",
       "    .dataframe thead th {\n",
       "        text-align: right;\n",
       "    }\n",
       "</style>\n",
       "<table border=\"1\" class=\"dataframe\">\n",
       "  <thead>\n",
       "    <tr style=\"text-align: right;\">\n",
       "      <th></th>\n",
       "      <th>size</th>\n",
       "    </tr>\n",
       "  </thead>\n",
       "  <tbody>\n",
       "    <tr>\n",
       "      <th>0</th>\n",
       "      <td>36471</td>\n",
       "    </tr>\n",
       "    <tr>\n",
       "      <th>1</th>\n",
       "      <td>24746</td>\n",
       "    </tr>\n",
       "    <tr>\n",
       "      <th>2</th>\n",
       "      <td>1021326</td>\n",
       "    </tr>\n",
       "    <tr>\n",
       "      <th>3</th>\n",
       "      <td>2508</td>\n",
       "    </tr>\n",
       "    <tr>\n",
       "      <th>4</th>\n",
       "      <td>3873</td>\n",
       "    </tr>\n",
       "  </tbody>\n",
       "</table>\n",
       "</div>"
      ],
      "text/plain": [
       "      size\n",
       "0    36471\n",
       "1    24746\n",
       "2  1021326\n",
       "3     2508\n",
       "4     3873"
      ]
     },
     "execution_count": 9,
     "metadata": {},
     "output_type": "execute_result"
    }
   ],
   "source": [
    "github_repo_sizes = github_repos.query_to_pandas_safe(query1, max_gb_scanned=2.34)\n",
    "github_repo_sizes.head()"
   ]
  },
  {
   "cell_type": "code",
   "execution_count": 10,
   "metadata": {},
   "outputs": [
    {
     "name": "stdout",
     "output_type": "stream",
     "text": [
      "Minimum git repo size is  size    0.000011\n",
      "dtype: float64  bytes\n",
      "Maximum git repo size is  size    43.265584\n",
      "dtype: float64  bytes\n"
     ]
    }
   ],
   "source": [
    "BYTES_PER_MB = 2**20\n",
    "print(\"Minimum git repo size is \" , github_repo_sizes.min()/BYTES_PER_MB, \" bytes\")\n",
    "print(\"Maximum git repo size is \" , github_repo_sizes.max()/BYTES_PER_MB, \" bytes\");"
   ]
  },
  {
   "cell_type": "code",
   "execution_count": 11,
   "metadata": {},
   "outputs": [],
   "source": [
    "import matplotlib.pyplot as plt"
   ]
  },
  {
   "cell_type": "code",
   "execution_count": 46,
   "metadata": {},
   "outputs": [
    {
     "data": {
      "image/png": "[encoded data removed]",
      "text/plain": [
       "<Figure size 864x432 with 1 Axes>"
      ]
     },
     "metadata": {
      "needs_background": "light"
     },
     "output_type": "display_data"
    }
   ],
   "source": [
    "data1 = github_repo_sizes.divide(BYTES_PER_MB)\n",
    "plt.figure(figsize=(12,6))\n",
    "plt.plot(data1,color=\"black\")\n",
    "##plt.savefig('github-sizes-on-head-branch.png')\n",
    "plt.title(\"Sizes of Github Repos on Head Branch in MBs\");\n",
    "data1.to_csv('repo_sizes.csv')"
   ]
  },
  {
   "cell_type": "code",
   "execution_count": 20,
   "metadata": {},
   "outputs": [
    {
     "data": {
      "text/plain": [
       "pandas.core.indexes.range.RangeIndex"
      ]
     },
     "execution_count": 20,
     "metadata": {},
     "output_type": "execute_result"
    }
   ],
   "source": [
    "type(data1.index)"
   ]
  },
  {
   "cell_type": "code",
   "execution_count": 13,
   "metadata": {},
   "outputs": [
    {
     "data": {
      "text/html": [
       "<script type=\"text/javascript\">window.PlotlyConfig = {MathJaxConfig: 'local'};</script><script type=\"text/javascript\">if (window.MathJax) {MathJax.Hub.Config({SVG: {font: \"STIX-Web\"}});}</script><script>requirejs.config({paths: { 'plotly': ['https://cdn.plot.ly/plotly-latest.min']},});if(!window._Plotly) {require(['plotly'],function(plotly) {window._Plotly=plotly;});}</script>"
      ],
      "text/vnd.plotly.v1+html": [
       "<script type=\"text/javascript\">window.PlotlyConfig = {MathJaxConfig: 'local'};</script><script type=\"text/javascript\">if (window.MathJax) {MathJax.Hub.Config({SVG: {font: \"STIX-Web\"}});}</script><script>requirejs.config({paths: { 'plotly': ['https://cdn.plot.ly/plotly-latest.min']},});if(!window._Plotly) {require(['plotly'],function(plotly) {window._Plotly=plotly;});}</script>"
      ]
     },
     "metadata": {},
     "output_type": "display_data"
    }
   ],
   "source": [
    "import pandas as pd\n",
    "from plotly.offline import download_plotlyjs,plot,iplot,init_notebook_mode\n",
    "init_notebook_mode(connected=True)\n",
    "from plotly import tools\n",
    "\n",
    "import plotly.graph_objs as go"
   ]
  },
  {
   "cell_type": "code",
   "execution_count": null,
   "metadata": {},
   "outputs": [],
   "source": [
    "data = go.Scatter(x=data1.index,\n",
    "                 y=data1['size'],\n",
    "             mode = 'lines+markers',\n",
    "             #marker = dict(symbol = 17, size = 10)\n",
    "             #hoverinfosrc= 'Average amount spent in U.S. dollars'\n",
    "                  )\n",
    "\n",
    "layout1 = go.Layout(\n",
    "    title = 'Sizes of Github Repos on Head Branch in MBs', titlefont = dict(size = 30, color='#177a21'),\n",
    "    xaxis = dict(\n",
    "            title = 'Index',\n",
    "            #titlefont = dict(size=15)\n",
    "                ),\n",
    "    yaxis = dict(\n",
    "            title = \"Size\",\n",
    "            #titlefont = dict(size=15\n",
    "    ),\n",
    "\n",
    "                )\n",
    "fig = go.Figure(data=[data], layout=layout1)\n",
    "iplot(fig)"
   ]
  },
  {
   "cell_type": "markdown",
   "metadata": {},
   "source": [
    "#### How many github repositories are in form of binary files?\n",
    "\n",
    "A binary file is a file stored in binary format. A binary file is computer-readable but not human-readable. All executable programs are stored in binary files, as are most numeric data files.\n"
   ]
  },
  {
   "cell_type": "code",
   "execution_count": 25,
   "metadata": {},
   "outputs": [
    {
     "name": "stdout",
     "output_type": "stream",
     "text": [
      "CPU times: user 495 ms, sys: 35.7 ms, total: 530 ms\n",
      "Wall time: 4.13 s\n"
     ]
    }
   ],
   "source": [
    "%%time\n",
    "query2= \"\"\"SELECT binary\n",
    "            FROM `bigquery-public-data.github_repos.contents`\n",
    "            LIMIT 50000\n",
    "        \"\"\"\n",
    "\n",
    "binary_files=github_repos.query_to_pandas_safe(query2)"
   ]
  },
  {
   "cell_type": "code",
   "execution_count": 38,
   "metadata": {},
   "outputs": [],
   "source": [
    "import seaborn as sns"
   ]
  },
  {
   "cell_type": "code",
   "execution_count": 47,
   "metadata": {},
   "outputs": [
    {
     "data": {
      "image/png": "[encoded data removed]",
      "text/plain": [
       "<Figure size 432x288 with 1 Axes>"
      ]
     },
     "metadata": {
      "needs_background": "light"
     },
     "output_type": "display_data"
    }
   ],
   "source": [
    "binary_files.head()\n",
    "sns.countplot(binary_files.binary)\n",
    "plt.savefig('github-binary-files.png')\n",
    "plt.title(\"Binary Vs. Text Files\");\n",
    "binary_files.to_csv('binary_files.csv')"
   ]
  },
  {
   "cell_type": "code",
   "execution_count": 26,
   "metadata": {},
   "outputs": [
    {
     "data": {
      "text/html": [
       "<div>\n",
       "<style scoped>\n",
       "    .dataframe tbody tr th:only-of-type {\n",
       "        vertical-align: middle;\n",
       "    }\n",
       "\n",
       "    .dataframe tbody tr th {\n",
       "        vertical-align: top;\n",
       "    }\n",
       "\n",
       "    .dataframe thead th {\n",
       "        text-align: right;\n",
       "    }\n",
       "</style>\n",
       "<table border=\"1\" class=\"dataframe\">\n",
       "  <thead>\n",
       "    <tr style=\"text-align: right;\">\n",
       "      <th></th>\n",
       "      <th>binary</th>\n",
       "    </tr>\n",
       "  </thead>\n",
       "  <tbody>\n",
       "    <tr>\n",
       "      <th>0</th>\n",
       "      <td>False</td>\n",
       "    </tr>\n",
       "    <tr>\n",
       "      <th>1</th>\n",
       "      <td>False</td>\n",
       "    </tr>\n",
       "    <tr>\n",
       "      <th>2</th>\n",
       "      <td>False</td>\n",
       "    </tr>\n",
       "    <tr>\n",
       "      <th>3</th>\n",
       "      <td>False</td>\n",
       "    </tr>\n",
       "    <tr>\n",
       "      <th>4</th>\n",
       "      <td>False</td>\n",
       "    </tr>\n",
       "  </tbody>\n",
       "</table>\n",
       "</div>"
      ],
      "text/plain": [
       "   binary\n",
       "0   False\n",
       "1   False\n",
       "2   False\n",
       "3   False\n",
       "4   False"
      ]
     },
     "execution_count": 26,
     "metadata": {},
     "output_type": "execute_result"
    }
   ],
   "source": [
    "binary_files.head()"
   ]
  },
  {
   "cell_type": "code",
   "execution_count": null,
   "metadata": {},
   "outputs": [],
   "source": [
    "data = go.Bar(x=binary_files['binary'],\n",
    "                 y=binary_files.index,\n",
    "             #mode = 'lines+markers',\n",
    "             #marker = dict(symbol = 17, size = 10)\n",
    "             #hoverinfosrc= 'Average amount spent in U.S. dollars'\n",
    "                  )\n",
    "\n",
    "layout1 = go.Layout(\n",
    "    title = 'Binary Vs Text files', titlefont = dict(size = 30, color='#177a21'),\n",
    "    xaxis = dict(\n",
    "            title = 'Index',\n",
    "            #titlefont = dict(size=15)\n",
    "                ),\n",
    "    yaxis = dict(\n",
    "            title = 'Binary',\n",
    "            #titlefont = dict(size=15\n",
    "    ),\n",
    "    barmode=\"group\"\n",
    "                )\n",
    "fig = go.Figure(data=[data], layout=layout1)\n",
    "iplot(fig)"
   ]
  },
  {
   "cell_type": "markdown",
   "metadata": {},
   "source": [
    "#Looks like approximately 5% of the total files is dataset are binary files i.e executables rest all are normal text files."
   ]
  },
  {
   "cell_type": "markdown",
   "metadata": {},
   "source": [
    "### Which are the Popular Languages in Github?"
   ]
  },
  {
   "cell_type": "code",
   "execution_count": 48,
   "metadata": {},
   "outputs": [
    {
     "data": {
      "text/html": [
       "<div>\n",
       "<style scoped>\n",
       "    .dataframe tbody tr th:only-of-type {\n",
       "        vertical-align: middle;\n",
       "    }\n",
       "\n",
       "    .dataframe tbody tr th {\n",
       "        vertical-align: top;\n",
       "    }\n",
       "\n",
       "    .dataframe thead th {\n",
       "        text-align: right;\n",
       "    }\n",
       "</style>\n",
       "<table border=\"1\" class=\"dataframe\">\n",
       "  <thead>\n",
       "    <tr style=\"text-align: right;\">\n",
       "      <th></th>\n",
       "      <th>repo_name</th>\n",
       "      <th>language</th>\n",
       "    </tr>\n",
       "  </thead>\n",
       "  <tbody>\n",
       "    <tr>\n",
       "      <th>0</th>\n",
       "      <td>JoaoPedroToledo/C</td>\n",
       "      <td>[{'name': 'C', 'bytes': 4919}]</td>\n",
       "    </tr>\n",
       "    <tr>\n",
       "      <th>1</th>\n",
       "      <td>brantr/grid-fft</td>\n",
       "      <td>[{'name': 'C', 'bytes': 100796}]</td>\n",
       "    </tr>\n",
       "    <tr>\n",
       "      <th>2</th>\n",
       "      <td>plkid/demo</td>\n",
       "      <td>[{'name': 'C', 'bytes': 33}]</td>\n",
       "    </tr>\n",
       "    <tr>\n",
       "      <th>3</th>\n",
       "      <td>digitalmediacenter/zabbix_dns</td>\n",
       "      <td>[{'name': 'C', 'bytes': 7092}]</td>\n",
       "    </tr>\n",
       "    <tr>\n",
       "      <th>4</th>\n",
       "      <td>AlbandeCrevoisier/trajectoryctc</td>\n",
       "      <td>[{'name': 'C', 'bytes': 4255}]</td>\n",
       "    </tr>\n",
       "  </tbody>\n",
       "</table>\n",
       "</div>"
      ],
      "text/plain": [
       "                         repo_name                          language\n",
       "0                JoaoPedroToledo/C    [{'name': 'C', 'bytes': 4919}]\n",
       "1                  brantr/grid-fft  [{'name': 'C', 'bytes': 100796}]\n",
       "2                       plkid/demo      [{'name': 'C', 'bytes': 33}]\n",
       "3    digitalmediacenter/zabbix_dns    [{'name': 'C', 'bytes': 7092}]\n",
       "4  AlbandeCrevoisier/trajectoryctc    [{'name': 'C', 'bytes': 4255}]"
      ]
     },
     "execution_count": 48,
     "metadata": {},
     "output_type": "execute_result"
    }
   ],
   "source": [
    "github_repos.head(\"languages\")"
   ]
  },
  {
   "cell_type": "code",
   "execution_count": 49,
   "metadata": {},
   "outputs": [
    {
     "data": {
      "text/plain": [
       "0.11384124588221312"
      ]
     },
     "execution_count": 49,
     "metadata": {},
     "output_type": "execute_result"
    }
   ],
   "source": [
    "#%%time\n",
    "query3= \"\"\"SELECT language\n",
    "            FROM `bigquery-public-data.github_repos.languages`\n",
    "            LIMIT 5000\n",
    "        \"\"\"\n",
    "github_repos.estimate_query_size(query3)"
   ]
  },
  {
   "cell_type": "code",
   "execution_count": 50,
   "metadata": {},
   "outputs": [
    {
     "data": {
      "text/html": [
       "<div>\n",
       "<style scoped>\n",
       "    .dataframe tbody tr th:only-of-type {\n",
       "        vertical-align: middle;\n",
       "    }\n",
       "\n",
       "    .dataframe tbody tr th {\n",
       "        vertical-align: top;\n",
       "    }\n",
       "\n",
       "    .dataframe thead th {\n",
       "        text-align: right;\n",
       "    }\n",
       "</style>\n",
       "<table border=\"1\" class=\"dataframe\">\n",
       "  <thead>\n",
       "    <tr style=\"text-align: right;\">\n",
       "      <th></th>\n",
       "      <th>language</th>\n",
       "    </tr>\n",
       "  </thead>\n",
       "  <tbody>\n",
       "    <tr>\n",
       "      <th>0</th>\n",
       "      <td>[{'name': 'C', 'bytes': 4919}]</td>\n",
       "    </tr>\n",
       "    <tr>\n",
       "      <th>1</th>\n",
       "      <td>[{'name': 'C', 'bytes': 100796}]</td>\n",
       "    </tr>\n",
       "    <tr>\n",
       "      <th>2</th>\n",
       "      <td>[{'name': 'C', 'bytes': 33}]</td>\n",
       "    </tr>\n",
       "    <tr>\n",
       "      <th>3</th>\n",
       "      <td>[{'name': 'C', 'bytes': 7092}]</td>\n",
       "    </tr>\n",
       "    <tr>\n",
       "      <th>4</th>\n",
       "      <td>[{'name': 'C', 'bytes': 4255}]</td>\n",
       "    </tr>\n",
       "  </tbody>\n",
       "</table>\n",
       "</div>"
      ],
      "text/plain": [
       "                           language\n",
       "0    [{'name': 'C', 'bytes': 4919}]\n",
       "1  [{'name': 'C', 'bytes': 100796}]\n",
       "2      [{'name': 'C', 'bytes': 33}]\n",
       "3    [{'name': 'C', 'bytes': 7092}]\n",
       "4    [{'name': 'C', 'bytes': 4255}]"
      ]
     },
     "execution_count": 50,
     "metadata": {},
     "output_type": "execute_result"
    }
   ],
   "source": [
    "github_languages = github_repos.query_to_pandas_safe(query3)\n",
    "github_languages.head()"
   ]
  },
  {
   "cell_type": "code",
   "execution_count": 51,
   "metadata": {},
   "outputs": [
    {
     "data": {
      "text/plain": [
       "[{'name': 'C', 'bytes': 4919},\n",
       " {'name': 'C', 'bytes': 100796},\n",
       " {'name': 'C', 'bytes': 33},\n",
       " {'name': 'C', 'bytes': 7092},\n",
       " {'name': 'C', 'bytes': 4255}]"
      ]
     },
     "execution_count": 51,
     "metadata": {},
     "output_type": "execute_result"
    }
   ],
   "source": [
    "github_languages.language[0]\n",
    "languagesList=[]\n",
    "for lang in github_languages.language:\n",
    "    languagesList.extend(lang)\n",
    "languagesList[:5]"
   ]
  },
  {
   "cell_type": "code",
   "execution_count": 52,
   "metadata": {},
   "outputs": [],
   "source": [
    "Languages_count={}\n",
    "for lang in languagesList:\n",
    "    if lang[\"name\"] not in Languages_count:\n",
    "        Languages_count[lang[\"name\"]]=0\n",
    "    Languages_count[lang[\"name\"]]+=1\n",
    "#Languages_count"
   ]
  },
  {
   "cell_type": "code",
   "execution_count": 53,
   "metadata": {},
   "outputs": [
    {
     "data": {
      "text/plain": [
       "[('C', 5000),\n",
       " ('C#', 1176),\n",
       " ('C++', 997),\n",
       " ('Shell', 976),\n",
       " ('Makefile', 797),\n",
       " ('Python', 646),\n",
       " ('JavaScript', 482),\n",
       " ('Objective-C', 481),\n",
       " ('Java', 436),\n",
       " ('Go', 417),\n",
       " ('HTML', 393),\n",
       " ('M4', 317),\n",
       " ('Perl', 253),\n",
       " ('CSS', 219),\n",
       " ('Ruby', 208)]"
      ]
     },
     "execution_count": 53,
     "metadata": {},
     "output_type": "execute_result"
    }
   ],
   "source": [
    "import operator\n",
    "sorted_Languages_counts = sorted(Languages_count.items(), key=operator.itemgetter(1),reverse=True)\n",
    "sorted_Languages_counts[:15]\n"
   ]
  },
  {
   "cell_type": "code",
   "execution_count": 60,
   "metadata": {},
   "outputs": [],
   "source": [
    "import json\n",
    "with open('sorted_Languages_counts.json', 'w') as fp:\n",
    "    json.dump(sorted_Languages_counts, fp)\n"
   ]
  },
  {
   "cell_type": "code",
   "execution_count": 36,
   "metadata": {},
   "outputs": [],
   "source": [
    "import numpy as np"
   ]
  },
  {
   "cell_type": "code",
   "execution_count": 54,
   "metadata": {},
   "outputs": [
    {
     "data": {
      "text/plain": [
       "Text(0.5, 1.0, 'Language Popularity Score')"
      ]
     },
     "execution_count": 54,
     "metadata": {},
     "output_type": "execute_result"
    },
    {
     "data": {
      "image/png": "[encoded data removed]",
      "text/plain": [
       "<Figure size 864x576 with 1 Axes>"
      ]
     },
     "metadata": {
      "needs_background": "light"
     },
     "output_type": "display_data"
    }
   ],
   "source": [
    "language = list(zip(*sorted_Languages_counts[:15]))[0]\n",
    "count = list(zip(*sorted_Languages_counts[:15]))[1]\n",
    "x_pos = np.arange(len(language))\n",
    "\n",
    "\n",
    "# calculate slope and intercept for the linear trend line\n",
    "slope, intercept = np.polyfit(x_pos, count, 1)\n",
    "trendline = intercept + (slope * x_pos)\n",
    "plt.figure(figsize=(12,8))\n",
    "plt.plot(x_pos, trendline, color='black', linestyle='--')    \n",
    "plt.bar(x_pos, count,align='center',color=sns.color_palette(\"gist_rainbow\",len(x_pos)))\n",
    "plt.xticks(x_pos, language,rotation=45) \n",
    "plt.title('Language Popularity Score')\n",
    "#plt.savefig('github-language-popularity.png');"
   ]
  },
  {
   "cell_type": "code",
   "execution_count": 83,
   "metadata": {},
   "outputs": [
    {
     "data": {
      "text/plain": [
       "array([ 0,  1,  2,  3,  4,  5,  6,  7,  8,  9, 10, 11, 12, 13, 14])"
      ]
     },
     "execution_count": 83,
     "metadata": {},
     "output_type": "execute_result"
    }
   ],
   "source": [
    "x_pos"
   ]
  },
  {
   "cell_type": "markdown",
   "metadata": {},
   "source": [
    "### Which are the trending repositories on Github ??"
   ]
  },
  {
   "cell_type": "code",
   "execution_count": 61,
   "metadata": {},
   "outputs": [
    {
     "data": {
      "text/html": [
       "<div>\n",
       "<style scoped>\n",
       "    .dataframe tbody tr th:only-of-type {\n",
       "        vertical-align: middle;\n",
       "    }\n",
       "\n",
       "    .dataframe tbody tr th {\n",
       "        vertical-align: top;\n",
       "    }\n",
       "\n",
       "    .dataframe thead th {\n",
       "        text-align: right;\n",
       "    }\n",
       "</style>\n",
       "<table border=\"1\" class=\"dataframe\">\n",
       "  <thead>\n",
       "    <tr style=\"text-align: right;\">\n",
       "      <th></th>\n",
       "      <th>repo_name</th>\n",
       "      <th>watch_count</th>\n",
       "    </tr>\n",
       "  </thead>\n",
       "  <tbody>\n",
       "    <tr>\n",
       "      <th>0</th>\n",
       "      <td>FreeCodeCamp/FreeCodeCamp</td>\n",
       "      <td>90457</td>\n",
       "    </tr>\n",
       "    <tr>\n",
       "      <th>1</th>\n",
       "      <td>firehol/netdata</td>\n",
       "      <td>13208</td>\n",
       "    </tr>\n",
       "    <tr>\n",
       "      <th>2</th>\n",
       "      <td>joshbuchea/HEAD</td>\n",
       "      <td>13125</td>\n",
       "    </tr>\n",
       "    <tr>\n",
       "      <th>3</th>\n",
       "      <td>braydie/HowToBeAProgrammer</td>\n",
       "      <td>12019</td>\n",
       "    </tr>\n",
       "    <tr>\n",
       "      <th>4</th>\n",
       "      <td>sindresorhus/awesome</td>\n",
       "      <td>11063</td>\n",
       "    </tr>\n",
       "  </tbody>\n",
       "</table>\n",
       "</div>"
      ],
      "text/plain": [
       "                    repo_name  watch_count\n",
       "0   FreeCodeCamp/FreeCodeCamp        90457\n",
       "1             firehol/netdata        13208\n",
       "2             joshbuchea/HEAD        13125\n",
       "3  braydie/HowToBeAProgrammer        12019\n",
       "4        sindresorhus/awesome        11063"
      ]
     },
     "execution_count": 61,
     "metadata": {},
     "output_type": "execute_result"
    }
   ],
   "source": [
    "github_repos.head(\"sample_repos\")"
   ]
  },
  {
   "cell_type": "code",
   "execution_count": 62,
   "metadata": {},
   "outputs": [
    {
     "data": {
      "text/plain": [
       "0.012228592298924923"
      ]
     },
     "execution_count": 62,
     "metadata": {},
     "output_type": "execute_result"
    }
   ],
   "source": [
    "query9 =\"\"\"\n",
    "        SELECT repo_name, watch_count\n",
    "        FROM `bigquery-public-data.github_repos.sample_repos`\n",
    "        ORDER BY watch_count DESC \n",
    "        LIMIT 2000\n",
    "        \"\"\"\n",
    "github_repos.estimate_query_size(query9)"
   ]
  },
  {
   "cell_type": "code",
   "execution_count": 63,
   "metadata": {},
   "outputs": [
    {
     "data": {
      "text/html": [
       "<div>\n",
       "<style scoped>\n",
       "    .dataframe tbody tr th:only-of-type {\n",
       "        vertical-align: middle;\n",
       "    }\n",
       "\n",
       "    .dataframe tbody tr th {\n",
       "        vertical-align: top;\n",
       "    }\n",
       "\n",
       "    .dataframe thead th {\n",
       "        text-align: right;\n",
       "    }\n",
       "</style>\n",
       "<table border=\"1\" class=\"dataframe\">\n",
       "  <thead>\n",
       "    <tr style=\"text-align: right;\">\n",
       "      <th></th>\n",
       "      <th>repo_name</th>\n",
       "      <th>watch_count</th>\n",
       "    </tr>\n",
       "  </thead>\n",
       "  <tbody>\n",
       "    <tr>\n",
       "      <th>0</th>\n",
       "      <td>FreeCodeCamp/FreeCodeCamp</td>\n",
       "      <td>90457</td>\n",
       "    </tr>\n",
       "    <tr>\n",
       "      <th>1</th>\n",
       "      <td>firehol/netdata</td>\n",
       "      <td>13208</td>\n",
       "    </tr>\n",
       "    <tr>\n",
       "      <th>2</th>\n",
       "      <td>joshbuchea/HEAD</td>\n",
       "      <td>13125</td>\n",
       "    </tr>\n",
       "    <tr>\n",
       "      <th>3</th>\n",
       "      <td>braydie/HowToBeAProgrammer</td>\n",
       "      <td>12019</td>\n",
       "    </tr>\n",
       "    <tr>\n",
       "      <th>4</th>\n",
       "      <td>sindresorhus/awesome</td>\n",
       "      <td>11063</td>\n",
       "    </tr>\n",
       "    <tr>\n",
       "      <th>5</th>\n",
       "      <td>tensorflow/tensorflow</td>\n",
       "      <td>10728</td>\n",
       "    </tr>\n",
       "    <tr>\n",
       "      <th>6</th>\n",
       "      <td>facebook/react</td>\n",
       "      <td>10458</td>\n",
       "    </tr>\n",
       "    <tr>\n",
       "      <th>7</th>\n",
       "      <td>ParsePlatform/parse-server</td>\n",
       "      <td>10339</td>\n",
       "    </tr>\n",
       "    <tr>\n",
       "      <th>8</th>\n",
       "      <td>loverajoel/jstips</td>\n",
       "      <td>9585</td>\n",
       "    </tr>\n",
       "    <tr>\n",
       "      <th>9</th>\n",
       "      <td>facebook/react-native</td>\n",
       "      <td>9437</td>\n",
       "    </tr>\n",
       "    <tr>\n",
       "      <th>10</th>\n",
       "      <td>vhf/free-programming-books</td>\n",
       "      <td>8862</td>\n",
       "    </tr>\n",
       "    <tr>\n",
       "      <th>11</th>\n",
       "      <td>vuejs/vue</td>\n",
       "      <td>8822</td>\n",
       "    </tr>\n",
       "    <tr>\n",
       "      <th>12</th>\n",
       "      <td>airbnb/javascript</td>\n",
       "      <td>8708</td>\n",
       "    </tr>\n",
       "    <tr>\n",
       "      <th>13</th>\n",
       "      <td>caesar0301/awesome-public-datasets</td>\n",
       "      <td>8653</td>\n",
       "    </tr>\n",
       "    <tr>\n",
       "      <th>14</th>\n",
       "      <td>twbs/bootstrap</td>\n",
       "      <td>8211</td>\n",
       "    </tr>\n",
       "  </tbody>\n",
       "</table>\n",
       "</div>"
      ],
      "text/plain": [
       "                             repo_name  watch_count\n",
       "0            FreeCodeCamp/FreeCodeCamp        90457\n",
       "1                      firehol/netdata        13208\n",
       "2                      joshbuchea/HEAD        13125\n",
       "3           braydie/HowToBeAProgrammer        12019\n",
       "4                 sindresorhus/awesome        11063\n",
       "5                tensorflow/tensorflow        10728\n",
       "6                       facebook/react        10458\n",
       "7           ParsePlatform/parse-server        10339\n",
       "8                    loverajoel/jstips         9585\n",
       "9                facebook/react-native         9437\n",
       "10          vhf/free-programming-books         8862\n",
       "11                           vuejs/vue         8822\n",
       "12                   airbnb/javascript         8708\n",
       "13  caesar0301/awesome-public-datasets         8653\n",
       "14                      twbs/bootstrap         8211"
      ]
     },
     "execution_count": 63,
     "metadata": {},
     "output_type": "execute_result"
    }
   ],
   "source": [
    "github_repo_trending_repos = github_repos.query_to_pandas_safe(query9)\n",
    "github_repo_trending_repos.head(15)"
   ]
  },
  {
   "cell_type": "code",
   "execution_count": 64,
   "metadata": {},
   "outputs": [
    {
     "data": {
      "image/png": "[encoded data removed]",
      "text/plain": [
       "<Figure size 864x576 with 1 Axes>"
      ]
     },
     "metadata": {
      "needs_background": "light"
     },
     "output_type": "display_data"
    }
   ],
   "source": [
    "plt.figure(figsize=(12,8))\n",
    "g = sns.barplot(y=\"repo_name\", x=\"watch_count\", data=github_repo_trending_repos[:20], palette=\"winter\")\n",
    "plt.title('Trending Github Repositories')\n",
    "plt.ylabel(\"Repository Name\")\n",
    "plt.xlabel(\"Watch Count\")\n",
    "github_repo_trending_repos.to_csv('github_repo_trending_repos.csv')\n",
    "#plt.savefig('github-trending-repo-by-watch-count.png');"
   ]
  },
  {
   "cell_type": "markdown",
   "metadata": {},
   "source": [
    "### Who are the authors with Highest number of repositories?\n",
    "\n",
    "The author on github is the person who originally wrote the code. In other words, the author is the person who originally wrote the patch."
   ]
  },
  {
   "cell_type": "code",
   "execution_count": 65,
   "metadata": {},
   "outputs": [
    {
     "name": "stdout",
     "output_type": "stream",
     "text": [
      "Query cancelled; estimated size of 19.73382367193699 exceeds limit of 1 GB\n",
      "CPU times: user 8.83 ms, sys: 0 ns, total: 8.83 ms\n",
      "Wall time: 419 ms\n"
     ]
    }
   ],
   "source": [
    "%%time\n",
    "query4= \"\"\"SELECT author\n",
    "            FROM `bigquery-public-data.github_repos.commits`\n",
    "            LIMIT 500000\n",
    "        \"\"\"\n",
    "github_repos.query_to_pandas_safe(query4)"
   ]
  },
  {
   "cell_type": "markdown",
   "metadata": {},
   "source": [
    "### GROUP BY... HAVING and COUNT\n",
    "\n",
    "Now we will be learning how to GROUP data BY particular column and COUNT common occurences. And also ORDER results BY count in ascending or DESCending order..\n",
    "Which are popular licenses?"
   ]
  },
  {
   "cell_type": "code",
   "execution_count": 66,
   "metadata": {},
   "outputs": [
    {
     "name": "stdout",
     "output_type": "stream",
     "text": [
      "CPU times: user 39.8 ms, sys: 762 µs, total: 40.5 ms\n",
      "Wall time: 2.42 s\n"
     ]
    }
   ],
   "source": [
    "%%time\n",
    "query8 =\"\"\"\n",
    "        SELECT license, COUNT(*) AS count\n",
    "        FROM `bigquery-public-data.github_repos.licenses`\n",
    "        GROUP BY license\n",
    "        ORDER BY COUNT(*) DESC\n",
    "        \"\"\"\n",
    "github_repos.query_to_pandas_safe(query8)"
   ]
  },
  {
   "cell_type": "code",
   "execution_count": 67,
   "metadata": {},
   "outputs": [
    {
     "data": {
      "text/html": [
       "<div>\n",
       "<style scoped>\n",
       "    .dataframe tbody tr th:only-of-type {\n",
       "        vertical-align: middle;\n",
       "    }\n",
       "\n",
       "    .dataframe tbody tr th {\n",
       "        vertical-align: top;\n",
       "    }\n",
       "\n",
       "    .dataframe thead th {\n",
       "        text-align: right;\n",
       "    }\n",
       "</style>\n",
       "<table border=\"1\" class=\"dataframe\">\n",
       "  <thead>\n",
       "    <tr style=\"text-align: right;\">\n",
       "      <th></th>\n",
       "      <th>license</th>\n",
       "      <th>count</th>\n",
       "    </tr>\n",
       "  </thead>\n",
       "  <tbody>\n",
       "    <tr>\n",
       "      <th>0</th>\n",
       "      <td>mit</td>\n",
       "      <td>1709794</td>\n",
       "    </tr>\n",
       "    <tr>\n",
       "      <th>1</th>\n",
       "      <td>apache-2.0</td>\n",
       "      <td>493527</td>\n",
       "    </tr>\n",
       "    <tr>\n",
       "      <th>2</th>\n",
       "      <td>gpl-2.0</td>\n",
       "      <td>345460</td>\n",
       "    </tr>\n",
       "    <tr>\n",
       "      <th>3</th>\n",
       "      <td>gpl-3.0</td>\n",
       "      <td>343487</td>\n",
       "    </tr>\n",
       "    <tr>\n",
       "      <th>4</th>\n",
       "      <td>bsd-3-clause</td>\n",
       "      <td>152969</td>\n",
       "    </tr>\n",
       "  </tbody>\n",
       "</table>\n",
       "</div>"
      ],
      "text/plain": [
       "        license    count\n",
       "0           mit  1709794\n",
       "1    apache-2.0   493527\n",
       "2       gpl-2.0   345460\n",
       "3       gpl-3.0   343487\n",
       "4  bsd-3-clause   152969"
      ]
     },
     "execution_count": 67,
     "metadata": {},
     "output_type": "execute_result"
    }
   ],
   "source": [
    "github_repo_licenses = github_repos.query_to_pandas_safe(query8)\n",
    "github_repo_licenses.head()"
   ]
  },
  {
   "cell_type": "code",
   "execution_count": 68,
   "metadata": {},
   "outputs": [
    {
     "data": {
      "text/plain": [
       "(15, 2)"
      ]
     },
     "execution_count": 68,
     "metadata": {},
     "output_type": "execute_result"
    }
   ],
   "source": [
    "github_repo_licenses.shape"
   ]
  },
  {
   "cell_type": "code",
   "execution_count": 69,
   "metadata": {},
   "outputs": [
    {
     "data": {
      "image/png": "[encoded data removed]",
      "text/plain": [
       "<Figure size 864x648 with 1 Axes>"
      ]
     },
     "metadata": {
      "needs_background": "light"
     },
     "output_type": "display_data"
    }
   ],
   "source": [
    "plt.figure(figsize=(12,9))\n",
    "sns.barplot(y=\"license\", x=\"count\", data=github_repo_licenses, palette=\"viridis\")\n",
    "plt.title('Licenses in order of their popularity in Github Repositories')\n",
    "github_repo_licenses.to_csv('github_repo_licenses.csv')\n",
    "#plt.savefig('github-licenses-popularity.png');"
   ]
  },
  {
   "cell_type": "markdown",
   "metadata": {},
   "source": [
    "### JOIN\n",
    "\n",
    "Till now we were using only single table. To get broader view of real life scenario where we have to use JOIN to join 2 tables together based on some column.\n",
    "How many files are covered by each license?"
   ]
  },
  {
   "cell_type": "code",
   "execution_count": 70,
   "metadata": {},
   "outputs": [],
   "source": [
    "query10 = (\"\"\"\n",
    "        -- Select all the columns we want in our joined table\n",
    "        SELECT L.license, COUNT(sf.path) AS number_of_files\n",
    "        FROM `bigquery-public-data.github_repos.sample_files` as sf\n",
    "        -- Table to merge into sample_files\n",
    "        INNER JOIN `bigquery-public-data.github_repos.licenses` as L \n",
    "            ON sf.repo_name = L.repo_name -- what columns should we join on?\n",
    "        GROUP BY L.license\n",
    "        ORDER BY number_of_files DESC\n",
    "        \"\"\")\n",
    "\n",
    "file_count_by_license = github_repos.query_to_pandas_safe(query10, max_gb_scanned=6)"
   ]
  },
  {
   "cell_type": "code",
   "execution_count": 72,
   "metadata": {},
   "outputs": [
    {
     "data": {
      "text/html": [
       "<div>\n",
       "<style scoped>\n",
       "    .dataframe tbody tr th:only-of-type {\n",
       "        vertical-align: middle;\n",
       "    }\n",
       "\n",
       "    .dataframe tbody tr th {\n",
       "        vertical-align: top;\n",
       "    }\n",
       "\n",
       "    .dataframe thead th {\n",
       "        text-align: right;\n",
       "    }\n",
       "</style>\n",
       "<table border=\"1\" class=\"dataframe\">\n",
       "  <thead>\n",
       "    <tr style=\"text-align: right;\">\n",
       "      <th></th>\n",
       "      <th>license</th>\n",
       "      <th>number_of_files</th>\n",
       "    </tr>\n",
       "  </thead>\n",
       "  <tbody>\n",
       "    <tr>\n",
       "      <th>0</th>\n",
       "      <td>mit</td>\n",
       "      <td>20615291</td>\n",
       "    </tr>\n",
       "    <tr>\n",
       "      <th>1</th>\n",
       "      <td>gpl-2.0</td>\n",
       "      <td>17132457</td>\n",
       "    </tr>\n",
       "    <tr>\n",
       "      <th>2</th>\n",
       "      <td>apache-2.0</td>\n",
       "      <td>7254869</td>\n",
       "    </tr>\n",
       "    <tr>\n",
       "      <th>3</th>\n",
       "      <td>gpl-3.0</td>\n",
       "      <td>4971469</td>\n",
       "    </tr>\n",
       "    <tr>\n",
       "      <th>4</th>\n",
       "      <td>bsd-3-clause</td>\n",
       "      <td>2713916</td>\n",
       "    </tr>\n",
       "  </tbody>\n",
       "</table>\n",
       "</div>"
      ],
      "text/plain": [
       "        license  number_of_files\n",
       "0           mit         20615291\n",
       "1       gpl-2.0         17132457\n",
       "2    apache-2.0          7254869\n",
       "3       gpl-3.0          4971469\n",
       "4  bsd-3-clause          2713916"
      ]
     },
     "execution_count": 72,
     "metadata": {},
     "output_type": "execute_result"
    }
   ],
   "source": [
    "file_count_by_license.head()"
   ]
  },
  {
   "cell_type": "code",
   "execution_count": 73,
   "metadata": {},
   "outputs": [
    {
     "data": {
      "image/png": "[encoded data removed]",
      "text/plain": [
       "<Figure size 864x648 with 1 Axes>"
      ]
     },
     "metadata": {
      "needs_background": "light"
     },
     "output_type": "display_data"
    }
   ],
   "source": [
    "plt.figure(figsize=(12,9))\n",
    "g = sns.barplot(y=\"license\", x=\"number_of_files\", data=file_count_by_license, palette=\"inferno\")\n",
    "plt.title(' Number of Files covered by each License')\n",
    "file_count_by_license.to_csv('file_count_by_license.csv')\n",
    "#plt.savefig('num-of-files-by-license.png')\n",
    "plt.xlabel(\"\");"
   ]
  },
  {
   "cell_type": "markdown",
   "metadata": {},
   "source": [
    "### How many commits have been made in repos written in the Python programming language?"
   ]
  },
  {
   "cell_type": "code",
   "execution_count": 74,
   "metadata": {},
   "outputs": [
    {
     "data": {
      "text/html": [
       "<div>\n",
       "<style scoped>\n",
       "    .dataframe tbody tr th:only-of-type {\n",
       "        vertical-align: middle;\n",
       "    }\n",
       "\n",
       "    .dataframe tbody tr th {\n",
       "        vertical-align: top;\n",
       "    }\n",
       "\n",
       "    .dataframe thead th {\n",
       "        text-align: right;\n",
       "    }\n",
       "</style>\n",
       "<table border=\"1\" class=\"dataframe\">\n",
       "  <thead>\n",
       "    <tr style=\"text-align: right;\">\n",
       "      <th></th>\n",
       "      <th>repo_name</th>\n",
       "      <th>num_commits</th>\n",
       "    </tr>\n",
       "  </thead>\n",
       "  <tbody>\n",
       "    <tr>\n",
       "      <th>0</th>\n",
       "      <td>torvalds/linux</td>\n",
       "      <td>602604</td>\n",
       "    </tr>\n",
       "    <tr>\n",
       "      <th>1</th>\n",
       "      <td>apple/swift</td>\n",
       "      <td>38891</td>\n",
       "    </tr>\n",
       "    <tr>\n",
       "      <th>2</th>\n",
       "      <td>Microsoft/vscode</td>\n",
       "      <td>6909</td>\n",
       "    </tr>\n",
       "    <tr>\n",
       "      <th>3</th>\n",
       "      <td>facebook/react</td>\n",
       "      <td>6875</td>\n",
       "    </tr>\n",
       "    <tr>\n",
       "      <th>4</th>\n",
       "      <td>tensorflow/tensorflow</td>\n",
       "      <td>5253</td>\n",
       "    </tr>\n",
       "  </tbody>\n",
       "</table>\n",
       "</div>"
      ],
      "text/plain": [
       "               repo_name  num_commits\n",
       "0         torvalds/linux       602604\n",
       "1            apple/swift        38891\n",
       "2       Microsoft/vscode         6909\n",
       "3         facebook/react         6875\n",
       "4  tensorflow/tensorflow         5253"
      ]
     },
     "execution_count": 74,
     "metadata": {},
     "output_type": "execute_result"
    }
   ],
   "source": [
    "query11 = \"\"\"\n",
    "WITH python_repos AS (\n",
    "    SELECT DISTINCT repo_name -- Notice DISTINCT\n",
    "    FROM `bigquery-public-data.github_repos.sample_files`\n",
    "    WHERE path LIKE '%.py')\n",
    "SELECT commits.repo_name, COUNT(commit) AS num_commits\n",
    "FROM `bigquery-public-data.github_repos.sample_commits` AS commits\n",
    "JOIN python_repos\n",
    "    ON  python_repos.repo_name = commits.repo_name\n",
    "GROUP BY commits.repo_name\n",
    "ORDER BY num_commits DESC\n",
    "\"\"\"\n",
    "github_repo_num_commits_distinct = github_repos.query_to_pandas_safe(query11, max_gb_scanned=10)\n",
    "github_repo_num_commits_distinct"
   ]
  },
  {
   "cell_type": "code",
   "execution_count": 76,
   "metadata": {},
   "outputs": [
    {
     "data": {
      "image/png": "[encoded data removed]",
      "text/plain": [
       "<Figure size 864x648 with 1 Axes>"
      ]
     },
     "metadata": {
      "needs_background": "light"
     },
     "output_type": "display_data"
    }
   ],
   "source": [
    "plt.figure(figsize=(12,9))\n",
    "g = sns.barplot(y=\"repo_name\", x=\"num_commits\", data=github_repo_num_commits_distinct[:15], palette=\"inferno\")\n",
    "plt.title(' Top Python Github Repositories by their commits Count')\n",
    "github_repo_num_commits_distinct.to_csv('github_repo_num_commits_distinct.csv')\n",
    "#plt.savefig('python-by-commits.png')\n",
    "plt.xlabel(\"\");"
   ]
  },
  {
   "cell_type": "markdown",
   "metadata": {},
   "source": [
    "### Number of Python files in each repositories above"
   ]
  },
  {
   "cell_type": "code",
   "execution_count": 77,
   "metadata": {},
   "outputs": [
    {
     "data": {
      "text/html": [
       "<div>\n",
       "<style scoped>\n",
       "    .dataframe tbody tr th:only-of-type {\n",
       "        vertical-align: middle;\n",
       "    }\n",
       "\n",
       "    .dataframe tbody tr th {\n",
       "        vertical-align: top;\n",
       "    }\n",
       "\n",
       "    .dataframe thead th {\n",
       "        text-align: right;\n",
       "    }\n",
       "</style>\n",
       "<table border=\"1\" class=\"dataframe\">\n",
       "  <thead>\n",
       "    <tr style=\"text-align: right;\">\n",
       "      <th></th>\n",
       "      <th>repo_name</th>\n",
       "      <th>num_python_files</th>\n",
       "    </tr>\n",
       "  </thead>\n",
       "  <tbody>\n",
       "    <tr>\n",
       "      <th>0</th>\n",
       "      <td>tensorflow/tensorflow</td>\n",
       "      <td>786</td>\n",
       "    </tr>\n",
       "    <tr>\n",
       "      <th>1</th>\n",
       "      <td>apple/swift</td>\n",
       "      <td>104</td>\n",
       "    </tr>\n",
       "    <tr>\n",
       "      <th>2</th>\n",
       "      <td>torvalds/linux</td>\n",
       "      <td>39</td>\n",
       "    </tr>\n",
       "    <tr>\n",
       "      <th>3</th>\n",
       "      <td>facebook/react</td>\n",
       "      <td>2</td>\n",
       "    </tr>\n",
       "    <tr>\n",
       "      <th>4</th>\n",
       "      <td>Microsoft/vscode</td>\n",
       "      <td>1</td>\n",
       "    </tr>\n",
       "  </tbody>\n",
       "</table>\n",
       "</div>"
      ],
      "text/plain": [
       "               repo_name  num_python_files\n",
       "0  tensorflow/tensorflow               786\n",
       "1            apple/swift               104\n",
       "2         torvalds/linux                39\n",
       "3         facebook/react                 2\n",
       "4       Microsoft/vscode                 1"
      ]
     },
     "execution_count": 77,
     "metadata": {},
     "output_type": "execute_result"
    }
   ],
   "source": [
    "query12 = \"\"\"\n",
    "SELECT repo_name, COUNT(path) AS num_python_files\n",
    "FROM `bigquery-public-data.github_repos.sample_files`\n",
    "WHERE repo_name IN ('torvalds/linux', 'apple/swift', 'Microsoft/vscode', 'facebook/react', 'tensorflow/tensorflow')\n",
    "    AND path LIKE '%.py'\n",
    "GROUP BY repo_name\n",
    "ORDER BY num_python_files DESC\n",
    "\"\"\"\n",
    "\n",
    "github_repo_num_python_files = github_repos.query_to_pandas_safe(query12, max_gb_scanned=10)\n",
    "github_repo_num_python_files"
   ]
  },
  {
   "cell_type": "code",
   "execution_count": 78,
   "metadata": {},
   "outputs": [
    {
     "data": {
      "image/png": "[encoded data removed]",
      "text/plain": [
       "<Figure size 864x648 with 1 Axes>"
      ]
     },
     "metadata": {
      "needs_background": "light"
     },
     "output_type": "display_data"
    }
   ],
   "source": [
    "plt.figure(figsize=(12,9))\n",
    "g = sns.barplot(y=\"repo_name\", x=\"num_python_files\", data=github_repo_num_python_files, palette=\"Spectral_r\")\n",
    "plt.title(' Python Github Repositories by their files Count')\n",
    "github_repo_num_python_files.to_csv('github_repo_num_python_files.csv')\n",
    "#plt.savefig('python-by-files-.png')\n",
    "plt.xlabel(\"\");"
   ]
  },
  {
   "cell_type": "markdown",
   "metadata": {},
   "source": [
    "#### How many commits have been made in repos written in the Java programming language?"
   ]
  },
  {
   "cell_type": "code",
   "execution_count": 79,
   "metadata": {},
   "outputs": [
    {
     "data": {
      "text/html": [
       "<div>\n",
       "<style scoped>\n",
       "    .dataframe tbody tr th:only-of-type {\n",
       "        vertical-align: middle;\n",
       "    }\n",
       "\n",
       "    .dataframe tbody tr th {\n",
       "        vertical-align: top;\n",
       "    }\n",
       "\n",
       "    .dataframe thead th {\n",
       "        text-align: right;\n",
       "    }\n",
       "</style>\n",
       "<table border=\"1\" class=\"dataframe\">\n",
       "  <thead>\n",
       "    <tr style=\"text-align: right;\">\n",
       "      <th></th>\n",
       "      <th>repo_name</th>\n",
       "      <th>num_commits</th>\n",
       "    </tr>\n",
       "  </thead>\n",
       "  <tbody>\n",
       "    <tr>\n",
       "      <th>0</th>\n",
       "      <td>Microsoft/vscode</td>\n",
       "      <td>6909</td>\n",
       "    </tr>\n",
       "    <tr>\n",
       "      <th>1</th>\n",
       "      <td>tensorflow/tensorflow</td>\n",
       "      <td>5253</td>\n",
       "    </tr>\n",
       "  </tbody>\n",
       "</table>\n",
       "</div>"
      ],
      "text/plain": [
       "               repo_name  num_commits\n",
       "0       Microsoft/vscode         6909\n",
       "1  tensorflow/tensorflow         5253"
      ]
     },
     "execution_count": 79,
     "metadata": {},
     "output_type": "execute_result"
    }
   ],
   "source": [
    "query13 = \"\"\"\n",
    "WITH java_repos AS (\n",
    "    SELECT DISTINCT repo_name -- Notice DISTINCT\n",
    "    FROM `bigquery-public-data.github_repos.sample_files`\n",
    "    WHERE path LIKE '%.java')\n",
    "SELECT commits.repo_name, COUNT(commit) AS num_commits\n",
    "FROM `bigquery-public-data.github_repos.sample_commits` AS commits\n",
    "JOIN java_repos\n",
    "    ON  java_repos.repo_name = commits.repo_name\n",
    "GROUP BY commits.repo_name\n",
    "ORDER BY num_commits DESC\n",
    "\"\"\"\n",
    "github_repo_num_java_distinct = github_repos.query_to_pandas_safe(query13, max_gb_scanned=5.3)\n",
    "github_repo_num_java_distinct"
   ]
  },
  {
   "cell_type": "code",
   "execution_count": 80,
   "metadata": {},
   "outputs": [
    {
     "data": {
      "image/png": "[encoded data removed]",
      "text/plain": [
       "<Figure size 864x648 with 1 Axes>"
      ]
     },
     "metadata": {
      "needs_background": "light"
     },
     "output_type": "display_data"
    }
   ],
   "source": [
    "plt.figure(figsize=(12,9))\n",
    "g = sns.barplot(y=\"repo_name\", x=\"num_commits\", data=github_repo_num_java_distinct, palette=\"PuBu\")\n",
    "plt.title(' Top Java Github Repositories by their commits Count')\n",
    "github_repo_num_java_distinct.to_csv('github_repo_num_java_distinct.csv')\n",
    "#plt.savefig('java-by_commits.png')\n",
    "plt.xlabel(\"\");"
   ]
  },
  {
   "cell_type": "markdown",
   "metadata": {},
   "source": [
    "### How many times 'This should never happen' appears??"
   ]
  },
  {
   "cell_type": "code",
   "execution_count": 81,
   "metadata": {},
   "outputs": [
    {
     "data": {
      "text/plain": [
       "23.62852669414133"
      ]
     },
     "execution_count": 81,
     "metadata": {},
     "output_type": "execute_result"
    }
   ],
   "source": [
    "query14 =\"\"\"\n",
    "SELECT\n",
    "  SUM(copies)\n",
    "FROM\n",
    "  `bigquery-public-data.github_repos.sample_contents`\n",
    "WHERE\n",
    "  NOT binary\n",
    "  AND content like '%This should never happen%'\n",
    "LIMIT 500\n",
    "\"\"\"\n",
    "github_repos.estimate_query_size(query14)"
   ]
  },
  {
   "cell_type": "code",
   "execution_count": 82,
   "metadata": {},
   "outputs": [
    {
     "data": {
      "text/html": [
       "<div>\n",
       "<style scoped>\n",
       "    .dataframe tbody tr th:only-of-type {\n",
       "        vertical-align: middle;\n",
       "    }\n",
       "\n",
       "    .dataframe tbody tr th {\n",
       "        vertical-align: top;\n",
       "    }\n",
       "\n",
       "    .dataframe thead th {\n",
       "        text-align: right;\n",
       "    }\n",
       "</style>\n",
       "<table border=\"1\" class=\"dataframe\">\n",
       "  <thead>\n",
       "    <tr style=\"text-align: right;\">\n",
       "      <th></th>\n",
       "      <th>f0_</th>\n",
       "    </tr>\n",
       "  </thead>\n",
       "  <tbody>\n",
       "    <tr>\n",
       "      <th>0</th>\n",
       "      <td>68486</td>\n",
       "    </tr>\n",
       "  </tbody>\n",
       "</table>\n",
       "</div>"
      ],
      "text/plain": [
       "     f0_\n",
       "0  68486"
      ]
     },
     "execution_count": 82,
     "metadata": {},
     "output_type": "execute_result"
    }
   ],
   "source": [
    "this_should_never_happen_count=github_repos.query_to_pandas_safe(query14, max_gb_scanned=23.7)\n",
    "this_should_never_happen_count"
   ]
  },
  {
   "cell_type": "markdown",
   "metadata": {},
   "source": [
    "### How many GO files are there?"
   ]
  },
  {
   "cell_type": "code",
   "execution_count": 46,
   "metadata": {},
   "outputs": [
    {
     "data": {
      "text/plain": [
       "3.645207361318171"
      ]
     },
     "execution_count": 46,
     "metadata": {},
     "output_type": "execute_result"
    }
   ],
   "source": [
    "query15=\"\"\"\n",
    "SELECT COUNT(*)\n",
    "FROM `bigquery-public-data.github_repos.sample_files`\n",
    "WHERE path LIKE '%.go'\n",
    "LIMIT 500\n",
    "\"\"\"\n",
    "github_repos.estimate_query_size(query15)"
   ]
  },
  {
   "cell_type": "code",
   "execution_count": 47,
   "metadata": {},
   "outputs": [
    {
     "data": {
      "text/html": [
       "<div>\n",
       "<style scoped>\n",
       "    .dataframe tbody tr th:only-of-type {\n",
       "        vertical-align: middle;\n",
       "    }\n",
       "\n",
       "    .dataframe tbody tr th {\n",
       "        vertical-align: top;\n",
       "    }\n",
       "\n",
       "    .dataframe thead th {\n",
       "        text-align: right;\n",
       "    }\n",
       "</style>\n",
       "<table border=\"1\" class=\"dataframe\">\n",
       "  <thead>\n",
       "    <tr style=\"text-align: right;\">\n",
       "      <th></th>\n",
       "      <th>f0_</th>\n",
       "    </tr>\n",
       "  </thead>\n",
       "  <tbody>\n",
       "    <tr>\n",
       "      <th>0</th>\n",
       "      <td>629226</td>\n",
       "    </tr>\n",
       "  </tbody>\n",
       "</table>\n",
       "</div>"
      ],
      "text/plain": [
       "      f0_\n",
       "0  629226"
      ]
     },
     "execution_count": 47,
     "metadata": {},
     "output_type": "execute_result"
    }
   ],
   "source": [
    "go_files_count=github_repos.query_to_pandas_safe(query15, max_gb_scanned=3.7)\n",
    "go_files_count"
   ]
  },
  {
   "cell_type": "markdown",
   "metadata": {},
   "source": [
    "### How many Python files are there?"
   ]
  },
  {
   "cell_type": "code",
   "execution_count": 48,
   "metadata": {},
   "outputs": [
    {
     "data": {
      "text/plain": [
       "3.645207361318171"
      ]
     },
     "execution_count": 48,
     "metadata": {},
     "output_type": "execute_result"
    }
   ],
   "source": [
    "query16=\"\"\"\n",
    "SELECT COUNT(*)\n",
    "FROM `bigquery-public-data.github_repos.sample_files`\n",
    "WHERE path LIKE '%.py'\n",
    "LIMIT 500\n",
    "\"\"\"\n",
    "github_repos.estimate_query_size(query16)"
   ]
  },
  {
   "cell_type": "code",
   "execution_count": 49,
   "metadata": {},
   "outputs": [
    {
     "data": {
      "text/html": [
       "<div>\n",
       "<style scoped>\n",
       "    .dataframe tbody tr th:only-of-type {\n",
       "        vertical-align: middle;\n",
       "    }\n",
       "\n",
       "    .dataframe tbody tr th {\n",
       "        vertical-align: top;\n",
       "    }\n",
       "\n",
       "    .dataframe thead th {\n",
       "        text-align: right;\n",
       "    }\n",
       "</style>\n",
       "<table border=\"1\" class=\"dataframe\">\n",
       "  <thead>\n",
       "    <tr style=\"text-align: right;\">\n",
       "      <th></th>\n",
       "      <th>f0_</th>\n",
       "    </tr>\n",
       "  </thead>\n",
       "  <tbody>\n",
       "    <tr>\n",
       "      <th>0</th>\n",
       "      <td>1231972</td>\n",
       "    </tr>\n",
       "  </tbody>\n",
       "</table>\n",
       "</div>"
      ],
      "text/plain": [
       "       f0_\n",
       "0  1231972"
      ]
     },
     "execution_count": 49,
     "metadata": {},
     "output_type": "execute_result"
    }
   ],
   "source": [
    "python_files_count=github_repos.query_to_pandas_safe(query16, max_gb_scanned=3.7)\n",
    "python_files_count"
   ]
  },
  {
   "cell_type": "code",
   "execution_count": null,
   "metadata": {},
   "outputs": [],
   "source": []
  }
 ],
 "metadata": {
  "kernelspec": {
   "display_name": "Python 3",
   "language": "python",
   "name": "python3"
  },
  "language_info": {
   "codemirror_mode": {
    "name": "ipython",
    "version": 3
   },
   "file_extension": ".py",
   "mimetype": "text/x-python",
   "name": "python",
   "nbconvert_exporter": "python",
   "pygments_lexer": "ipython3",
   "version": "3.7.3"
  }
 },
 "nbformat": 4,
 "nbformat_minor": 2
}
